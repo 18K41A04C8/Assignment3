{
  "nbformat": 4,
  "nbformat_minor": 0,
  "metadata": {
    "colab": {
      "name": "Assignment-3(3,4,5)",
      "provenance": [],
      "collapsed_sections": []
    },
    "kernelspec": {
      "name": "python3",
      "display_name": "Python 3"
    }
  },
  "cells": [
    {
      "cell_type": "markdown",
      "metadata": {
        "id": "VgG4qZEHYOhT",
        "colab_type": "text"
      },
      "source": [
        "3.  Compute the outer product of 2 vectors. Eg: p=[[1,0],[0,1]] q=[[1,2],[3,4]]"
      ]
    },
    {
      "cell_type": "code",
      "metadata": {
        "id": "-qYNowOFYQxw",
        "colab_type": "code",
        "colab": {
          "base_uri": "https://localhost:8080/",
          "height": 153
        },
        "outputId": "d7eb8323-2d8b-45de-e912-74bd9635f628"
      },
      "source": [
        "import numpy as np\n",
        "p=[[1,0],[0,1]]\n",
        "q=[[1,2],[3,4]]\n",
        "print(\"Original matrix is : \")\n",
        "print(p)\n",
        "print(q)\n",
        "r=np.outer(p,q)\n",
        "print(\"Outer product of two vectors :\")\n",
        "print(r)"
      ],
      "execution_count": 1,
      "outputs": [
        {
          "output_type": "stream",
          "text": [
            "Original matrix is : \n",
            "[[1, 0], [0, 1]]\n",
            "[[1, 2], [3, 4]]\n",
            "Outer product of two vectors :\n",
            "[[1 2 3 4]\n",
            " [0 0 0 0]\n",
            " [0 0 0 0]\n",
            " [1 2 3 4]]\n"
          ],
          "name": "stdout"
        }
      ]
    },
    {
      "cell_type": "markdown",
      "metadata": {
        "id": "7IUR-cKlYXlC",
        "colab_type": "text"
      },
      "source": [
        "4.  Write a Numpy program to compute the condition number of a given matrix."
      ]
    },
    {
      "cell_type": "code",
      "metadata": {
        "id": "UGahWQQ8YZd6",
        "colab_type": "code",
        "colab": {
          "base_uri": "https://localhost:8080/",
          "height": 68
        },
        "outputId": "dab19eb5-7056-4ba9-a2e3-130dc28bf407"
      },
      "source": [
        "import numpy as np\n",
        "m=np.array([[1,2],[3,4]])\n",
        "print(m)\n",
        "r=np.linalg.cond(m)\n",
        "print(\"Condition number of the said matrix is : \",r)"
      ],
      "execution_count": 2,
      "outputs": [
        {
          "output_type": "stream",
          "text": [
            "[[1 2]\n",
            " [3 4]]\n",
            "Condition number of the said matrix is :  14.933034373659268\n"
          ],
          "name": "stdout"
        }
      ]
    },
    {
      "cell_type": "markdown",
      "metadata": {
        "id": "oR9UJZngYkib",
        "colab_type": "text"
      },
      "source": [
        "5.  Write a Numpy program to compute the sum of the diagonal element of a given array(matrix)."
      ]
    },
    {
      "cell_type": "code",
      "metadata": {
        "id": "FMb2mn7lYq9r",
        "colab_type": "code",
        "colab": {
          "base_uri": "https://localhost:8080/",
          "height": 136
        },
        "outputId": "83537bfd-e165-4f4c-a63c-87cbe0909171"
      },
      "source": [
        "# Method-1\n",
        "import numpy as np\n",
        "a=np.arange(1,17)\n",
        "print(a)\n",
        "b=a.reshape(4,4)\n",
        "print(b)\n",
        "print(\"Sum of the diagonal elements : \")\n",
        "print(b.trace())"
      ],
      "execution_count": 3,
      "outputs": [
        {
          "output_type": "stream",
          "text": [
            "[ 1  2  3  4  5  6  7  8  9 10 11 12 13 14 15 16]\n",
            "[[ 1  2  3  4]\n",
            " [ 5  6  7  8]\n",
            " [ 9 10 11 12]\n",
            " [13 14 15 16]]\n",
            "Sum of the diagonal elements : \n",
            "34\n"
          ],
          "name": "stdout"
        }
      ]
    },
    {
      "cell_type": "code",
      "metadata": {
        "id": "DguShXv6Y0NT",
        "colab_type": "code",
        "colab": {
          "base_uri": "https://localhost:8080/",
          "height": 119
        },
        "outputId": "a7c7fe59-82b3-445d-da3c-ad1fef77ea6a"
      },
      "source": [
        "# Method-2\n",
        "a=np.arange(1,17)\n",
        "print(a)\n",
        "b=a.reshape(4,4)\n",
        "print(b)\n",
        "s=0\n",
        "for i in range(len(b)):\n",
        "  for j in range(len(b[i])):\n",
        "    if i==j:\n",
        "      s+=b[i][j]\n",
        "print(\"Sum of diagonal elements : \",s)"
      ],
      "execution_count": 4,
      "outputs": [
        {
          "output_type": "stream",
          "text": [
            "[ 1  2  3  4  5  6  7  8  9 10 11 12 13 14 15 16]\n",
            "[[ 1  2  3  4]\n",
            " [ 5  6  7  8]\n",
            " [ 9 10 11 12]\n",
            " [13 14 15 16]]\n",
            "Sum of diagonal elements :  34\n"
          ],
          "name": "stdout"
        }
      ]
    }
  ]
}